{
 "cells": [
  {
   "cell_type": "code",
   "execution_count": 2,
   "metadata": {},
   "outputs": [],
   "source": [
    "import pandas as pd\n",
    "import os\n",
    "import glob"
   ]
  },
  {
   "cell_type": "code",
   "execution_count": 14,
   "metadata": {},
   "outputs": [],
   "source": [
    "df_dir = './objaverse_1.0/dataframes/'\n",
    "df_dirs = sorted(glob.glob(df_dir + \"*.csv\"))"
   ]
  },
  {
   "cell_type": "code",
   "execution_count": null,
   "metadata": {},
   "outputs": [],
   "source": []
  },
  {
   "cell_type": "code",
   "execution_count": 24,
   "metadata": {},
   "outputs": [
    {
     "data": {
      "text/plain": [
       "['./objaverse_1.0/dataframes/0_1000.csv',\n",
       " './objaverse_1.0/dataframes/10000_15000.csv',\n",
       " './objaverse_1.0/dataframes/1000_2000.csv',\n",
       " './objaverse_1.0/dataframes/15000_20000.csv',\n",
       " './objaverse_1.0/dataframes/20000_25000.csv',\n",
       " './objaverse_1.0/dataframes/2000_5000.csv',\n",
       " './objaverse_1.0/dataframes/5000_8000.csv',\n",
       " './objaverse_1.0/dataframes/8000_10000.csv']"
      ]
     },
     "execution_count": 24,
     "metadata": {},
     "output_type": "execute_result"
    }
   ],
   "source": [
    "df_dirs"
   ]
  },
  {
   "cell_type": "code",
   "execution_count": 28,
   "metadata": {},
   "outputs": [
    {
     "data": {
      "text/plain": [
       "['0_1000.csv',\n",
       " '10000_15000.csv',\n",
       " '1000_2000.csv',\n",
       " '15000_20000.csv',\n",
       " '20000_25000.csv',\n",
       " '2000_5000.csv',\n",
       " '5000_8000.csv',\n",
       " '8000_10000.csv']"
      ]
     },
     "execution_count": 28,
     "metadata": {},
     "output_type": "execute_result"
    }
   ],
   "source": [
    "files\n"
   ]
  },
  {
   "cell_type": "code",
   "execution_count": 31,
   "metadata": {},
   "outputs": [],
   "source": [
    "# df_dirs\n",
    "\n",
    "files = [os.path.basename(d) for d in df_dirs]\n",
    "init_indexes = sorted([int(f.split('_')[0]) for f in files])\n"
   ]
  },
  {
   "cell_type": "code",
   "execution_count": 43,
   "metadata": {},
   "outputs": [],
   "source": [
    "# for idx in init_indexes:\n",
    "\n",
    "# lst = next(walk(self.rootDirectory))[1]\n",
    "dirs = sorted(files, key=lambda x: int(x.split('.')[0]))\n"
   ]
  },
  {
   "cell_type": "code",
   "execution_count": 60,
   "metadata": {},
   "outputs": [
    {
     "data": {
      "text/plain": [
       "['./objaverse_1.0/dataframes/0_1000.csv',\n",
       " './objaverse_1.0/dataframes/10000_15000.csv',\n",
       " './objaverse_1.0/dataframes/1000_2000.csv',\n",
       " './objaverse_1.0/dataframes/15000_20000.csv',\n",
       " './objaverse_1.0/dataframes/20000_25000.csv',\n",
       " './objaverse_1.0/dataframes/2000_5000.csv',\n",
       " './objaverse_1.0/dataframes/5000_8000.csv',\n",
       " './objaverse_1.0/dataframes/8000_10000.csv']"
      ]
     },
     "execution_count": 60,
     "metadata": {},
     "output_type": "execute_result"
    }
   ],
   "source": [
    "df_dirs"
   ]
  },
  {
   "cell_type": "code",
   "execution_count": 61,
   "metadata": {},
   "outputs": [],
   "source": [
    "full_df = []\n",
    "for df in df_dirs:\n",
    "    full_df.append(pd.read_csv(df))\n",
    "\n",
    "full_df_ = pd.concat(full_df)\n"
   ]
  },
  {
   "cell_type": "code",
   "execution_count": 62,
   "metadata": {},
   "outputs": [
    {
     "data": {
      "text/html": [
       "<div>\n",
       "<style scoped>\n",
       "    .dataframe tbody tr th:only-of-type {\n",
       "        vertical-align: middle;\n",
       "    }\n",
       "\n",
       "    .dataframe tbody tr th {\n",
       "        vertical-align: top;\n",
       "    }\n",
       "\n",
       "    .dataframe thead th {\n",
       "        text-align: right;\n",
       "    }\n",
       "</style>\n",
       "<table border=\"1\" class=\"dataframe\">\n",
       "  <thead>\n",
       "    <tr style=\"text-align: right;\">\n",
       "      <th></th>\n",
       "      <th>Unnamed: 0</th>\n",
       "      <th>Objects</th>\n",
       "      <th>Metadata</th>\n",
       "    </tr>\n",
       "  </thead>\n",
       "  <tbody>\n",
       "    <tr>\n",
       "      <th>0</th>\n",
       "      <td>0</td>\n",
       "      <td>8476c4170df24cf5bbe6967222d1a42d</td>\n",
       "      <td>{'uri': 'https://api.sketchfab.com/v3/models/8...</td>\n",
       "    </tr>\n",
       "    <tr>\n",
       "      <th>1</th>\n",
       "      <td>1</td>\n",
       "      <td>8ff7f1f2465347cd8b80c9b206c2781e</td>\n",
       "      <td>{'uri': 'https://api.sketchfab.com/v3/models/8...</td>\n",
       "    </tr>\n",
       "    <tr>\n",
       "      <th>2</th>\n",
       "      <td>2</td>\n",
       "      <td>c786b97d08b94d02a1fa3b87d2e86cf1</td>\n",
       "      <td>{'uri': 'https://api.sketchfab.com/v3/models/c...</td>\n",
       "    </tr>\n",
       "    <tr>\n",
       "      <th>3</th>\n",
       "      <td>3</td>\n",
       "      <td>139331da744542009f146018fd0e05f4</td>\n",
       "      <td>{'uri': 'https://api.sketchfab.com/v3/models/1...</td>\n",
       "    </tr>\n",
       "    <tr>\n",
       "      <th>4</th>\n",
       "      <td>4</td>\n",
       "      <td>be2c02614d774f9da672dfdc44015219</td>\n",
       "      <td>{'uri': 'https://api.sketchfab.com/v3/models/b...</td>\n",
       "    </tr>\n",
       "    <tr>\n",
       "      <th>...</th>\n",
       "      <td>...</td>\n",
       "      <td>...</td>\n",
       "      <td>...</td>\n",
       "    </tr>\n",
       "    <tr>\n",
       "      <th>1995</th>\n",
       "      <td>1995</td>\n",
       "      <td>d0c4e1e28fda439eabb6dbcbfd74f4a1</td>\n",
       "      <td>{'uri': 'https://api.sketchfab.com/v3/models/3...</td>\n",
       "    </tr>\n",
       "    <tr>\n",
       "      <th>1996</th>\n",
       "      <td>1996</td>\n",
       "      <td>cf8e682148a74213995dc5d13ea32076</td>\n",
       "      <td>{'uri': 'https://api.sketchfab.com/v3/models/5...</td>\n",
       "    </tr>\n",
       "    <tr>\n",
       "      <th>1997</th>\n",
       "      <td>1997</td>\n",
       "      <td>8bdb37b28d0b40f7b074da621934a78d</td>\n",
       "      <td>{'uri': 'https://api.sketchfab.com/v3/models/0...</td>\n",
       "    </tr>\n",
       "    <tr>\n",
       "      <th>1998</th>\n",
       "      <td>1998</td>\n",
       "      <td>56010d1a73e241beb9b30bf74db67e64</td>\n",
       "      <td>{'uri': 'https://api.sketchfab.com/v3/models/2...</td>\n",
       "    </tr>\n",
       "    <tr>\n",
       "      <th>1999</th>\n",
       "      <td>1999</td>\n",
       "      <td>60ad18a6fc9e4975a0ca8d932f8a33f1</td>\n",
       "      <td>{'uri': 'https://api.sketchfab.com/v3/models/1...</td>\n",
       "    </tr>\n",
       "  </tbody>\n",
       "</table>\n",
       "<p>25000 rows × 3 columns</p>\n",
       "</div>"
      ],
      "text/plain": [
       "      Unnamed: 0                           Objects  \\\n",
       "0              0  8476c4170df24cf5bbe6967222d1a42d   \n",
       "1              1  8ff7f1f2465347cd8b80c9b206c2781e   \n",
       "2              2  c786b97d08b94d02a1fa3b87d2e86cf1   \n",
       "3              3  139331da744542009f146018fd0e05f4   \n",
       "4              4  be2c02614d774f9da672dfdc44015219   \n",
       "...          ...                               ...   \n",
       "1995        1995  d0c4e1e28fda439eabb6dbcbfd74f4a1   \n",
       "1996        1996  cf8e682148a74213995dc5d13ea32076   \n",
       "1997        1997  8bdb37b28d0b40f7b074da621934a78d   \n",
       "1998        1998  56010d1a73e241beb9b30bf74db67e64   \n",
       "1999        1999  60ad18a6fc9e4975a0ca8d932f8a33f1   \n",
       "\n",
       "                                               Metadata  \n",
       "0     {'uri': 'https://api.sketchfab.com/v3/models/8...  \n",
       "1     {'uri': 'https://api.sketchfab.com/v3/models/8...  \n",
       "2     {'uri': 'https://api.sketchfab.com/v3/models/c...  \n",
       "3     {'uri': 'https://api.sketchfab.com/v3/models/1...  \n",
       "4     {'uri': 'https://api.sketchfab.com/v3/models/b...  \n",
       "...                                                 ...  \n",
       "1995  {'uri': 'https://api.sketchfab.com/v3/models/3...  \n",
       "1996  {'uri': 'https://api.sketchfab.com/v3/models/5...  \n",
       "1997  {'uri': 'https://api.sketchfab.com/v3/models/0...  \n",
       "1998  {'uri': 'https://api.sketchfab.com/v3/models/2...  \n",
       "1999  {'uri': 'https://api.sketchfab.com/v3/models/1...  \n",
       "\n",
       "[25000 rows x 3 columns]"
      ]
     },
     "execution_count": 62,
     "metadata": {},
     "output_type": "execute_result"
    }
   ],
   "source": [
    "full_df_ = full_df_"
   ]
  },
  {
   "cell_type": "code",
   "execution_count": 63,
   "metadata": {},
   "outputs": [],
   "source": [
    "full_df_.to_csv('./objaverse_1.0/full_df.csv')"
   ]
  },
  {
   "cell_type": "code",
   "execution_count": 50,
   "metadata": {},
   "outputs": [],
   "source": []
  },
  {
   "cell_type": "code",
   "execution_count": 56,
   "metadata": {},
   "outputs": [
    {
     "data": {
      "text/plain": [
       "[0, 5, 1, 6, 7, 2, 3, 4]"
      ]
     },
     "execution_count": 56,
     "metadata": {},
     "output_type": "execute_result"
    }
   ],
   "source": []
  },
  {
   "cell_type": "code",
   "execution_count": 54,
   "metadata": {},
   "outputs": [],
   "source": []
  },
  {
   "cell_type": "code",
   "execution_count": 55,
   "metadata": {},
   "outputs": [
    {
     "data": {
      "text/plain": [
       "['./objaverse_1.0/dataframes/0_1000.csv',\n",
       " './objaverse_1.0/dataframes/2000_5000.csv',\n",
       " './objaverse_1.0/dataframes/10000_15000.csv',\n",
       " './objaverse_1.0/dataframes/5000_8000.csv',\n",
       " './objaverse_1.0/dataframes/8000_10000.csv',\n",
       " './objaverse_1.0/dataframes/1000_2000.csv',\n",
       " './objaverse_1.0/dataframes/15000_20000.csv',\n",
       " './objaverse_1.0/dataframes/20000_25000.csv']"
      ]
     },
     "execution_count": 55,
     "metadata": {},
     "output_type": "execute_result"
    }
   ],
   "source": []
  }
 ],
 "metadata": {
  "kernelspec": {
   "display_name": "sam",
   "language": "python",
   "name": "python3"
  },
  "language_info": {
   "codemirror_mode": {
    "name": "ipython",
    "version": 3
   },
   "file_extension": ".py",
   "mimetype": "text/x-python",
   "name": "python",
   "nbconvert_exporter": "python",
   "pygments_lexer": "ipython3",
   "version": "3.8.18"
  }
 },
 "nbformat": 4,
 "nbformat_minor": 2
}
