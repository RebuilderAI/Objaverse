{
 "cells": [
  {
   "cell_type": "code",
   "execution_count": 1,
   "metadata": {},
   "outputs": [],
   "source": [
    "import os"
   ]
  },
  {
   "cell_type": "code",
   "execution_count": 2,
   "metadata": {},
   "outputs": [
    {
     "data": {
      "text/plain": [
       "'/home/jiwi/Documents/RAI/Objaverse'"
      ]
     },
     "execution_count": 2,
     "metadata": {},
     "output_type": "execute_result"
    }
   ],
   "source": [
    "os.getcwd()"
   ]
  },
  {
   "cell_type": "code",
   "execution_count": 3,
   "metadata": {},
   "outputs": [
    {
     "name": "stdout",
     "output_type": "stream",
     "text": [
      "868\n",
      "859\n",
      "922\n",
      "890\n",
      "856\n"
     ]
    }
   ],
   "source": [
    "print(len(os.listdir('/home/jiwi/Documents/RAI/Objaverse/data_for_mr_kim/glbs/000-023/')))\n",
    "print(len(os.listdir('/home/jiwi/Documents/RAI/Objaverse/data_for_mr_kim/glbs/000-108/')))\n",
    "print(len(os.listdir('/home/jiwi/Documents/RAI/Objaverse/data_for_mr_kim/glbs/000-135/')))\n",
    "print(len(os.listdir('/home/jiwi/Documents/RAI/Objaverse/data_for_mr_kim/glbs/000-146/')))\n",
    "print(len(os.listdir('/home/jiwi/Documents/RAI/Objaverse/data_for_mr_kim/glbs/000-148/')))"
   ]
  },
  {
   "cell_type": "code",
   "execution_count": 1,
   "metadata": {},
   "outputs": [
    {
     "name": "stdout",
     "output_type": "stream",
     "text": [
      "Jupyter environment detected. Enabling Open3D WebVisualizer.\n",
      "[Open3D INFO] WebRTC GUI backend enabled.\n",
      "[Open3D INFO] WebRTCWindowSystem: HTTP handshake server disabled.\n"
     ]
    }
   ],
   "source": [
    "import open3d as o3d\n",
    "import trimesh\n",
    "import os\n",
    "import numpy as np"
   ]
  },
  {
   "cell_type": "code",
   "execution_count": 2,
   "metadata": {},
   "outputs": [],
   "source": [
    "import io"
   ]
  },
  {
   "cell_type": "code",
   "execution_count": 3,
   "metadata": {},
   "outputs": [],
   "source": [
    "import json\n",
    "import base64\n",
    "from PIL import Image\n",
    "from pygltflib import GLTF2"
   ]
  },
  {
   "cell_type": "code",
   "execution_count": 4,
   "metadata": {},
   "outputs": [],
   "source": [
    "import glob"
   ]
  },
  {
   "cell_type": "code",
   "execution_count": 8,
   "metadata": {},
   "outputs": [],
   "source": [
    "glb_path_list = sorted(glob.glob(os.path.join('./glbs/000-023/', \"*.glb\")))"
   ]
  },
  {
   "cell_type": "code",
   "execution_count": 9,
   "metadata": {},
   "outputs": [
    {
     "data": {
      "text/plain": [
       "'./glbs/000-023/139331da744542009f146018fd0e05f4.glb'"
      ]
     },
     "execution_count": 9,
     "metadata": {},
     "output_type": "execute_result"
    }
   ],
   "source": [
    "glb_path_list[0]"
   ]
  },
  {
   "cell_type": "code",
   "execution_count": 7,
   "metadata": {},
   "outputs": [
    {
     "name": "stdout",
     "output_type": "stream",
     "text": [
      "5792\n",
      "10208\n"
     ]
    }
   ],
   "source": [
    "print(trimesh.load(glb_path_list[0], force='mesh').vertices.shape[0])\n",
    "print(trimesh.load(glb_path_list[0], force='mesh').faces.shape[0])"
   ]
  },
  {
   "cell_type": "code",
   "execution_count": 2,
   "metadata": {},
   "outputs": [
    {
     "name": "stdout",
     "output_type": "stream",
     "text": [
      "000a6774ed02497391fc40ef378faef6.glb\n",
      "24\n",
      "12\n",
      "----------\n",
      "00110b996d944a658db8f24c6ccf36ec.glb\n",
      "3385\n",
      "4566\n",
      "----------\n",
      "008f03f663b443f492dc7451856d2351.glb\n",
      "96884\n",
      "85156\n",
      "----------\n",
      "0097f699187e45beb14cc0f25b522896.glb\n",
      "56489\n",
      "35203\n",
      "----------\n",
      "00539710140e49eea847c4e0a19589cf.glb\n",
      "676\n",
      "568\n",
      "----------\n"
     ]
    }
   ],
   "source": [
    "for file in os.listdir('./exported_data/000-108/'):\n",
    "    print(file)\n",
    "    print(trimesh.load('./exported_data/000-108/'+file, force='mesh').vertices.shape[0])\n",
    "    print(trimesh.load('./exported_data/000-108/'+file, force='mesh').faces.shape[0])\n",
    "    print('-'*10)"
   ]
  },
  {
   "cell_type": "code",
   "execution_count": 5,
   "metadata": {},
   "outputs": [],
   "source": [
    "model_path = './exported_data/000-108/00539710140e49eea847c4e0a19589cf.glb' # 'your_model.glb'를 실제 파일 경로로 변경\n",
    "mesh = o3d.io.read_triangle_mesh(model_path)\n",
    "# 메쉬를 복셀 그리드로 변환\n",
    "voxel_grid = o3d.geometry.VoxelGrid.create_from_triangle_mesh(mesh, voxel_size=0.05)\n",
    "# 복셀 그리드 시각화\n",
    "o3d.visualization.draw_geometries([voxel_grid])"
   ]
  },
  {
   "cell_type": "code",
   "execution_count": 5,
   "metadata": {},
   "outputs": [],
   "source": [
    "glb_file = glb_path_list[0]\n",
    "texture_dir = os.path.splitext(glb_file)[0] + \"_textures\""
   ]
  },
  {
   "cell_type": "code",
   "execution_count": 7,
   "metadata": {},
   "outputs": [
    {
     "data": {
      "text/plain": [
       "'./glbs/000-023/139331da744542009f146018fd0e05f4.glb'"
      ]
     },
     "execution_count": 7,
     "metadata": {},
     "output_type": "execute_result"
    }
   ],
   "source": [
    "glb_file"
   ]
  },
  {
   "cell_type": "code",
   "execution_count": 6,
   "metadata": {},
   "outputs": [
    {
     "data": {
      "text/plain": [
       "'./glbs/000-023/139331da744542009f146018fd0e05f4_textures'"
      ]
     },
     "execution_count": 6,
     "metadata": {},
     "output_type": "execute_result"
    }
   ],
   "source": [
    "texture_dir"
   ]
  },
  {
   "cell_type": "code",
   "execution_count": 28,
   "metadata": {},
   "outputs": [],
   "source": [
    "def extract_textures(glb_file):\n",
    "    # Load glTF file\n",
    "    gltf = GLTF2().load(glb_file)\n",
    "\n",
    "    # Create a directory to save extracted textures\n",
    "    texture_dir = os.path.splitext(glb_file)[0] + \"_textures\"\n",
    "    os.makedirs(texture_dir, exist_ok=True)\n",
    "\n",
    "    # Extract textures\n",
    "    for index, image in enumerate(gltf.images):\n",
    "        print('image:', image)\n",
    "        if 'uri' in image:\n",
    "            # If texture is stored externally\n",
    "            texture_path = os.path.join(texture_dir, os.path.basename(image.uri))\n",
    "            with open(texture_path, 'wb') as f:\n",
    "                f.write(image.data)\n",
    "            print(f\"Texture {index + 1}: Saved to {texture_path}\")\n",
    "        elif 'bufferView' in image:\n",
    "            # If texture is embedded as a base64-encoded image\n",
    "            data = base64.b64decode(image.bufferView.data)\n",
    "            img = Image.open(io.BytesIO(data))\n",
    "            texture_path = os.path.join(texture_dir, f\"texture_{index + 1}.png\")\n",
    "            img.save(texture_path)\n",
    "            print(f\"Texture {index + 1}: Saved to {texture_path}\")\n",
    "        else:\n",
    "            print(f\"Texture {index + 1}: Texture format not supported\")"
   ]
  },
  {
   "cell_type": "code",
   "execution_count": 13,
   "metadata": {},
   "outputs": [],
   "source": [
    "gltf = GLTF2().load(glb_file_path)"
   ]
  },
  {
   "cell_type": "code",
   "execution_count": 33,
   "metadata": {},
   "outputs": [
    {
     "data": {
      "text/plain": [
       "pygltflib.Image"
      ]
     },
     "execution_count": 33,
     "metadata": {},
     "output_type": "execute_result"
    }
   ],
   "source": [
    "gltf.images[0]\n",
    "\n",
    "type(gltf.images[0])"
   ]
  },
  {
   "cell_type": "code",
   "execution_count": 43,
   "metadata": {},
   "outputs": [
    {
     "ename": "TypeError",
     "evalue": "argument of type 'Image' is not iterable",
     "output_type": "error",
     "traceback": [
      "\u001b[0;31m---------------------------------------------------------------------------\u001b[0m",
      "\u001b[0;31mTypeError\u001b[0m                                 Traceback (most recent call last)",
      "Cell \u001b[0;32mIn[43], line 1\u001b[0m\n\u001b[0;32m----> 1\u001b[0m \u001b[38;5;124;43m'\u001b[39;49m\u001b[38;5;124;43mbufferView\u001b[39;49m\u001b[38;5;124;43m'\u001b[39;49m\u001b[43m \u001b[49m\u001b[38;5;129;43;01min\u001b[39;49;00m\u001b[43m \u001b[49m\u001b[43mgltf\u001b[49m\u001b[38;5;241;43m.\u001b[39;49m\u001b[43mimages\u001b[49m\u001b[43m[\u001b[49m\u001b[38;5;241;43m0\u001b[39;49m\u001b[43m]\u001b[49m\n",
      "\u001b[0;31mTypeError\u001b[0m: argument of type 'Image' is not iterable"
     ]
    }
   ],
   "source": [
    "'bufferView' in gltf.images[0]"
   ]
  },
  {
   "cell_type": "code",
   "execution_count": 41,
   "metadata": {},
   "outputs": [
    {
     "name": "stdout",
     "output_type": "stream",
     "text": [
      "True\n"
     ]
    }
   ],
   "source": [
    "print(gltf.images[0].uri == None)"
   ]
  },
  {
   "cell_type": "code",
   "execution_count": 37,
   "metadata": {},
   "outputs": [
    {
     "data": {
      "text/plain": [
       "{}"
      ]
     },
     "execution_count": 37,
     "metadata": {},
     "output_type": "execute_result"
    }
   ],
   "source": [
    "gltf.images[0].extras\n",
    "# 'uri' in gltf.images[0]"
   ]
  },
  {
   "cell_type": "code",
   "execution_count": 29,
   "metadata": {},
   "outputs": [
    {
     "ename": "TypeError",
     "evalue": "argument of type 'Image' is not iterable",
     "output_type": "error",
     "traceback": [
      "\u001b[0;31m---------------------------------------------------------------------------\u001b[0m",
      "\u001b[0;31mTypeError\u001b[0m                                 Traceback (most recent call last)",
      "Cell \u001b[0;32mIn[29], line 2\u001b[0m\n\u001b[1;32m      1\u001b[0m glb_file_path \u001b[38;5;241m=\u001b[39m \u001b[38;5;124m\"\u001b[39m\u001b[38;5;124m./exported_data/000-108/00539710140e49eea847c4e0a19589cf.glb\u001b[39m\u001b[38;5;124m\"\u001b[39m\n\u001b[0;32m----> 2\u001b[0m \u001b[43mextract_textures\u001b[49m\u001b[43m(\u001b[49m\u001b[43mglb_file_path\u001b[49m\u001b[43m)\u001b[49m\n",
      "Cell \u001b[0;32mIn[28], line 11\u001b[0m, in \u001b[0;36mextract_textures\u001b[0;34m(glb_file)\u001b[0m\n\u001b[1;32m      9\u001b[0m \u001b[38;5;66;03m# Extract textures\u001b[39;00m\n\u001b[1;32m     10\u001b[0m \u001b[38;5;28;01mfor\u001b[39;00m index, image \u001b[38;5;129;01min\u001b[39;00m \u001b[38;5;28menumerate\u001b[39m(gltf\u001b[38;5;241m.\u001b[39mimages):\n\u001b[0;32m---> 11\u001b[0m     \u001b[38;5;28;01mif\u001b[39;00m \u001b[38;5;124;43m'\u001b[39;49m\u001b[38;5;124;43muri\u001b[39;49m\u001b[38;5;124;43m'\u001b[39;49m\u001b[43m \u001b[49m\u001b[38;5;129;43;01min\u001b[39;49;00m\u001b[43m \u001b[49m\u001b[43mimage\u001b[49m:\n\u001b[1;32m     12\u001b[0m         \u001b[38;5;66;03m# If texture is stored externally\u001b[39;00m\n\u001b[1;32m     13\u001b[0m         texture_path \u001b[38;5;241m=\u001b[39m os\u001b[38;5;241m.\u001b[39mpath\u001b[38;5;241m.\u001b[39mjoin(texture_dir, os\u001b[38;5;241m.\u001b[39mpath\u001b[38;5;241m.\u001b[39mbasename(image\u001b[38;5;241m.\u001b[39muri))\n\u001b[1;32m     14\u001b[0m         \u001b[38;5;28;01mwith\u001b[39;00m \u001b[38;5;28mopen\u001b[39m(texture_path, \u001b[38;5;124m'\u001b[39m\u001b[38;5;124mwb\u001b[39m\u001b[38;5;124m'\u001b[39m) \u001b[38;5;28;01mas\u001b[39;00m f:\n",
      "\u001b[0;31mTypeError\u001b[0m: argument of type 'Image' is not iterable"
     ]
    }
   ],
   "source": [
    "\n",
    "glb_file_path = \"./exported_data/000-108/00539710140e49eea847c4e0a19589cf.glb\"\n",
    "extract_textures(glb_file_path)"
   ]
  },
  {
   "cell_type": "code",
   "execution_count": null,
   "metadata": {},
   "outputs": [],
   "source": []
  }
 ],
 "metadata": {
  "kernelspec": {
   "display_name": "sam",
   "language": "python",
   "name": "python3"
  },
  "language_info": {
   "codemirror_mode": {
    "name": "ipython",
    "version": 3
   },
   "file_extension": ".py",
   "mimetype": "text/x-python",
   "name": "python",
   "nbconvert_exporter": "python",
   "pygments_lexer": "ipython3",
   "version": "3.8.18"
  }
 },
 "nbformat": 4,
 "nbformat_minor": 2
}
